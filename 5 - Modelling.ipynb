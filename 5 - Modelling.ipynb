{
 "cells": [
  {
   "cell_type": "markdown",
   "id": "2fe6fdf5",
   "metadata": {},
   "source": [
    "# Notebook #5 -  Modelling with Scikit-Learn"
   ]
  },
  {
   "cell_type": "markdown",
   "id": "0e3d9e37",
   "metadata": {},
   "source": [
    "#### Overview\n",
    "In this notebook, I will be fitting and optimizing a linear regression model against 3 different target variables: Views, Streams, and Average Monthly Views (YouTube). By doing this, I want to attempt to identify which features of a song have an influence on how popular it is. For example, do songs that rank high in \"Danceability\" tend to perform better than songs that rank highly in \"Instrumentalness\"? Could artists and music producers use this to maximize the popularity of their songs?\n",
    "\n",
    "#### Sections\n",
    "[1. Data Preparation](#section1)  \n",
    "[2. Linear Regression](#section2)  \n",
    "[3. Ridge Regression](#section3)  \n",
    "[4. Lasso Regression](#section4)  \n",
    "[5. Decision Tree](#section5)  \n",
    "[6. Random Forest](#section6)  \n",
    "[7. XGB Regressor](#section7)  \n",
    "[8. Model Evaluation](#section8)  \n",
    "[9. Conclusion](#section9)"
   ]
  },
  {
   "cell_type": "markdown",
   "id": "b9ca84cb",
   "metadata": {},
   "source": [
    "---"
   ]
  },
  {
   "cell_type": "code",
   "execution_count": 30,
   "id": "5e74a844",
   "metadata": {},
   "outputs": [],
   "source": [
    "# Import Standard Libraries\n",
    "import pandas as pd\n",
    "import numpy as np\n",
    "\n",
    "# Import plotting library\n",
    "import matplotlib.pyplot as plt\n",
    "\n",
    "# Import ml toolkit\n",
    "from sklearn.preprocessing import StandardScaler\n",
    "from sklearn.model_selection import train_test_split, GridSearchCV\n",
    "from sklearn.metrics import mean_absolute_error\n",
    "\n",
    "# Import linear models\n",
    "from sklearn.linear_model import LinearRegression\n",
    "from sklearn.linear_model import Ridge, Lasso\n",
    "\n",
    "# Import Tree based models\n",
    "from sklearn.tree import DecisionTreeRegressor\n",
    "from sklearn.ensemble import RandomForestRegressor\n",
    "from xgboost import XGBRegressor\n",
    "\n",
    "import warnings\n",
    "warnings.filterwarnings('ignore')"
   ]
  },
  {
   "cell_type": "code",
   "execution_count": 31,
   "id": "8eb9c733",
   "metadata": {
    "scrolled": true
   },
   "outputs": [
    {
     "name": "stdout",
     "output_type": "stream",
     "text": [
      "(19812, 27)\n"
     ]
    },
    {
     "data": {
      "text/html": [
       "<div>\n",
       "<style scoped>\n",
       "    .dataframe tbody tr th:only-of-type {\n",
       "        vertical-align: middle;\n",
       "    }\n",
       "\n",
       "    .dataframe tbody tr th {\n",
       "        vertical-align: top;\n",
       "    }\n",
       "\n",
       "    .dataframe thead th {\n",
       "        text-align: right;\n",
       "    }\n",
       "</style>\n",
       "<table border=\"1\" class=\"dataframe\">\n",
       "  <thead>\n",
       "    <tr style=\"text-align: right;\">\n",
       "      <th></th>\n",
       "      <th>Danceability</th>\n",
       "      <th>Energy</th>\n",
       "      <th>Loudness</th>\n",
       "      <th>Speechiness</th>\n",
       "      <th>Acousticness</th>\n",
       "      <th>Instrumentalness</th>\n",
       "      <th>Liveness</th>\n",
       "      <th>Valence</th>\n",
       "      <th>Tempo</th>\n",
       "      <th>duration_sec</th>\n",
       "      <th>...</th>\n",
       "      <th>_A#/Bb</th>\n",
       "      <th>_B</th>\n",
       "      <th>_C#/Db</th>\n",
       "      <th>_D</th>\n",
       "      <th>_D#/Eb</th>\n",
       "      <th>_E</th>\n",
       "      <th>_F</th>\n",
       "      <th>_F#/Gb</th>\n",
       "      <th>_G</th>\n",
       "      <th>_G#/Ab</th>\n",
       "    </tr>\n",
       "  </thead>\n",
       "  <tbody>\n",
       "    <tr>\n",
       "      <th>0</th>\n",
       "      <td>0.818</td>\n",
       "      <td>0.705</td>\n",
       "      <td>-6.679</td>\n",
       "      <td>0.1770</td>\n",
       "      <td>0.008360</td>\n",
       "      <td>0.002330</td>\n",
       "      <td>0.6130</td>\n",
       "      <td>0.772</td>\n",
       "      <td>138.559</td>\n",
       "      <td>223</td>\n",
       "      <td>...</td>\n",
       "      <td>0</td>\n",
       "      <td>0</td>\n",
       "      <td>0</td>\n",
       "      <td>0</td>\n",
       "      <td>0</td>\n",
       "      <td>0</td>\n",
       "      <td>0</td>\n",
       "      <td>1</td>\n",
       "      <td>0</td>\n",
       "      <td>0</td>\n",
       "    </tr>\n",
       "    <tr>\n",
       "      <th>1</th>\n",
       "      <td>0.676</td>\n",
       "      <td>0.703</td>\n",
       "      <td>-5.815</td>\n",
       "      <td>0.0302</td>\n",
       "      <td>0.086900</td>\n",
       "      <td>0.000687</td>\n",
       "      <td>0.0463</td>\n",
       "      <td>0.852</td>\n",
       "      <td>92.761</td>\n",
       "      <td>200</td>\n",
       "      <td>...</td>\n",
       "      <td>0</td>\n",
       "      <td>0</td>\n",
       "      <td>0</td>\n",
       "      <td>0</td>\n",
       "      <td>0</td>\n",
       "      <td>0</td>\n",
       "      <td>0</td>\n",
       "      <td>0</td>\n",
       "      <td>0</td>\n",
       "      <td>1</td>\n",
       "    </tr>\n",
       "    <tr>\n",
       "      <th>2</th>\n",
       "      <td>0.695</td>\n",
       "      <td>0.923</td>\n",
       "      <td>-3.930</td>\n",
       "      <td>0.0522</td>\n",
       "      <td>0.042500</td>\n",
       "      <td>0.046900</td>\n",
       "      <td>0.1160</td>\n",
       "      <td>0.551</td>\n",
       "      <td>108.014</td>\n",
       "      <td>215</td>\n",
       "      <td>...</td>\n",
       "      <td>0</td>\n",
       "      <td>0</td>\n",
       "      <td>1</td>\n",
       "      <td>0</td>\n",
       "      <td>0</td>\n",
       "      <td>0</td>\n",
       "      <td>0</td>\n",
       "      <td>0</td>\n",
       "      <td>0</td>\n",
       "      <td>0</td>\n",
       "    </tr>\n",
       "    <tr>\n",
       "      <th>3</th>\n",
       "      <td>0.689</td>\n",
       "      <td>0.739</td>\n",
       "      <td>-5.810</td>\n",
       "      <td>0.0260</td>\n",
       "      <td>0.000015</td>\n",
       "      <td>0.509000</td>\n",
       "      <td>0.0640</td>\n",
       "      <td>0.578</td>\n",
       "      <td>120.423</td>\n",
       "      <td>234</td>\n",
       "      <td>...</td>\n",
       "      <td>0</td>\n",
       "      <td>0</td>\n",
       "      <td>0</td>\n",
       "      <td>1</td>\n",
       "      <td>0</td>\n",
       "      <td>0</td>\n",
       "      <td>0</td>\n",
       "      <td>0</td>\n",
       "      <td>0</td>\n",
       "      <td>0</td>\n",
       "    </tr>\n",
       "    <tr>\n",
       "      <th>4</th>\n",
       "      <td>0.663</td>\n",
       "      <td>0.694</td>\n",
       "      <td>-8.627</td>\n",
       "      <td>0.1710</td>\n",
       "      <td>0.025300</td>\n",
       "      <td>0.000000</td>\n",
       "      <td>0.0698</td>\n",
       "      <td>0.525</td>\n",
       "      <td>167.953</td>\n",
       "      <td>341</td>\n",
       "      <td>...</td>\n",
       "      <td>1</td>\n",
       "      <td>0</td>\n",
       "      <td>0</td>\n",
       "      <td>0</td>\n",
       "      <td>0</td>\n",
       "      <td>0</td>\n",
       "      <td>0</td>\n",
       "      <td>0</td>\n",
       "      <td>0</td>\n",
       "      <td>0</td>\n",
       "    </tr>\n",
       "  </tbody>\n",
       "</table>\n",
       "<p>5 rows × 27 columns</p>\n",
       "</div>"
      ],
      "text/plain": [
       "   Danceability  Energy  Loudness  Speechiness  Acousticness  \\\n",
       "0         0.818   0.705    -6.679       0.1770      0.008360   \n",
       "1         0.676   0.703    -5.815       0.0302      0.086900   \n",
       "2         0.695   0.923    -3.930       0.0522      0.042500   \n",
       "3         0.689   0.739    -5.810       0.0260      0.000015   \n",
       "4         0.663   0.694    -8.627       0.1710      0.025300   \n",
       "\n",
       "   Instrumentalness  Liveness  Valence    Tempo  duration_sec  ...  _A#/Bb  \\\n",
       "0          0.002330    0.6130    0.772  138.559           223  ...       0   \n",
       "1          0.000687    0.0463    0.852   92.761           200  ...       0   \n",
       "2          0.046900    0.1160    0.551  108.014           215  ...       0   \n",
       "3          0.509000    0.0640    0.578  120.423           234  ...       0   \n",
       "4          0.000000    0.0698    0.525  167.953           341  ...       1   \n",
       "\n",
       "   _B  _C#/Db  _D  _D#/Eb  _E  _F  _F#/Gb  _G  _G#/Ab  \n",
       "0   0       0   0       0   0   0       1   0       0  \n",
       "1   0       0   0       0   0   0       0   0       1  \n",
       "2   0       1   0       0   0   0       0   0       0  \n",
       "3   0       0   1       0   0   0       0   0       0  \n",
       "4   0       0   0       0   0   0       0   0       0  \n",
       "\n",
       "[5 rows x 27 columns]"
      ]
     },
     "execution_count": 31,
     "metadata": {},
     "output_type": "execute_result"
    }
   ],
   "source": [
    "# Import modelling data\n",
    "df = pd.read_csv('data/modelling_data.csv')\n",
    "print(df.shape)\n",
    "df.head()"
   ]
  },
  {
   "cell_type": "code",
   "execution_count": 4,
   "id": "8c72149b",
   "metadata": {},
   "outputs": [
    {
     "data": {
      "text/plain": [
       "Index(['Danceability', 'Energy', 'Loudness', 'Speechiness', 'Acousticness',\n",
       "       'Instrumentalness', 'Liveness', 'Valence', 'Tempo', 'duration_sec',\n",
       "       'Views', 'Stream', 'months_published', 'avg_views_per_month',\n",
       "       '_compilation', '_single', '_A', '_A#/Bb', '_B', '_C#/Db', '_D',\n",
       "       '_D#/Eb', '_E', '_F', '_F#/Gb', '_G', '_G#/Ab'],\n",
       "      dtype='object')"
      ]
     },
     "execution_count": 4,
     "metadata": {},
     "output_type": "execute_result"
    }
   ],
   "source": [
    "# Verify columns in dataframe\n",
    "df.columns"
   ]
  },
  {
   "cell_type": "markdown",
   "id": "081ac7e5",
   "metadata": {},
   "source": [
    "---"
   ]
  },
  {
   "cell_type": "markdown",
   "id": "11ad96cf",
   "metadata": {},
   "source": [
    "<a id='section1'></a>\n",
    "#### Data Preparation"
   ]
  },
  {
   "cell_type": "code",
   "execution_count": 58,
   "id": "c3ba4a30",
   "metadata": {},
   "outputs": [],
   "source": [
    "# Fit x & y\n",
    "X = df.drop(['Views', 'Stream', 'avg_views_per_month'], axis=1)\n",
    "y = df['Views']"
   ]
  },
  {
   "cell_type": "code",
   "execution_count": 33,
   "id": "36d328b7",
   "metadata": {},
   "outputs": [],
   "source": [
    "# Split Train & Test sets\n",
    "X_remainder, X_test, y_remainder, y_test = train_test_split(X, y, test_size = 0.2, random_state=42)\n",
    "\n",
    "# Split validation set\n",
    "X_train, X_val, y_train, y_val = train_test_split(X_remainder, y_remainder, test_size = 0.25, random_state=42)"
   ]
  },
  {
   "cell_type": "code",
   "execution_count": 34,
   "id": "66a0f5e1",
   "metadata": {},
   "outputs": [
    {
     "name": "stdout",
     "output_type": "stream",
     "text": [
      "X_train:(11886, 24)\n",
      "X_remainder:(3963, 24)\n",
      "X_test:(3963, 24)\n"
     ]
    }
   ],
   "source": [
    "# Check shapes\n",
    "print(f'X_train:{X_train.shape}')\n",
    "print(f'X_remainder:{X_val.shape}')\n",
    "print(f'X_test:{X_test.shape}')"
   ]
  },
  {
   "cell_type": "markdown",
   "id": "e79c53a7",
   "metadata": {},
   "source": [
    "---"
   ]
  },
  {
   "cell_type": "markdown",
   "id": "63cf27e7",
   "metadata": {},
   "source": [
    "<a id='section2'></a>\n",
    "#### Linear Regression\n",
    "I want to start with a baseline linear regression model score to see what we need to improve upon."
   ]
  },
  {
   "cell_type": "code",
   "execution_count": 35,
   "id": "920cbd34",
   "metadata": {},
   "outputs": [
    {
     "name": "stdout",
     "output_type": "stream",
     "text": [
      "Linear Train Score: 0.041788350913312455\n",
      "Linear Validation Score: 0.027795486613992115\n"
     ]
    }
   ],
   "source": [
    "# Fit standard linear regression model\n",
    "lr = LinearRegression()\n",
    "lr.fit(X_train, y_train)\n",
    "\n",
    "# Save validation score\n",
    "lr_val_score = lr.score(X_val, y_val) \n",
    "\n",
    "# Print R2 score\n",
    "print(f'Linear Train Score: {lr.score(X_train, y_train)}')\n",
    "print(f'Linear Validation Score: {lr_val_score}')"
   ]
  },
  {
   "cell_type": "markdown",
   "id": "6a7552ed",
   "metadata": {},
   "source": [
    "So far, on the base model, we have a terrible R2 score of 0.027 percent, meaning that the current model vaptures very little variance in the data. There is only room for improvement in this circumstance. There are a few approaches I can take to improving the R2 score. \n",
    "1. Scale the data\n",
    "2. Test different models for regression problems\n",
    "3. Hypertune parameters\n",
    "\n",
    "It's possible that the datapoints in the dataset available are not overly predictive of the target variable, but that doesn't mean a better model isn't possible. The score to beat is 0.027."
   ]
  },
  {
   "cell_type": "code",
   "execution_count": 36,
   "id": "d7f09fae",
   "metadata": {},
   "outputs": [],
   "source": [
    "# scale the data\n",
    "scaler = StandardScaler()\n",
    "\n",
    "X_train_scaled = scaler.fit_transform(X_train)\n",
    "X_val_scaled = scaler.transform(X_val)\n",
    "X_test_scaled = scaler.transform(X_test)\n",
    "\n",
    "# Convert back to dataframe\n",
    "X_train = pd.DataFrame(X_train_scaled, columns=X_train.columns)\n",
    "X_val = pd.DataFrame(X_val_scaled, columns=X_val.columns)\n",
    "X_test = pd.DataFrame(X_test_scaled, columns=X_test.columns)"
   ]
  },
  {
   "cell_type": "code",
   "execution_count": 37,
   "id": "734b7303",
   "metadata": {},
   "outputs": [
    {
     "name": "stdout",
     "output_type": "stream",
     "text": [
      "Linear Train Score: 0.041788350913312455\n",
      "Linear Validation Score: 0.027795486613992115\n"
     ]
    }
   ],
   "source": [
    "# Refit\n",
    "lr.fit(X_train, y_train)\n",
    "\n",
    "# Save validation score\n",
    "scaled_lr_val_score = lr.score(X_val, y_val)\n",
    "\n",
    "# Print R2 score\n",
    "print(f'Linear Train Score: {lr.score(X_train, y_train)}')\n",
    "print(f'Linear Validation Score: {lr_val_score}')"
   ]
  },
  {
   "cell_type": "code",
   "execution_count": 38,
   "id": "94e26762",
   "metadata": {},
   "outputs": [
    {
     "name": "stdout",
     "output_type": "stream",
     "text": [
      "-0.00000000000000022204\n"
     ]
    }
   ],
   "source": [
    "# Examine improvement over baseline\n",
    "print(format(scaled_lr_val_score - lr_val_score, '.20f'))"
   ]
  },
  {
   "cell_type": "markdown",
   "id": "3b430c03",
   "metadata": {},
   "source": [
    "Interesting, the scaled data is returning a slightly worse score than the unscaled data. The change however, is so small, it could be written off as a rounding error. Already I am seeing that so little of the variance is accounted for in the predictor variables that are available to me in this dataset. Moving forward we will be exploring any ways that we can improve model accuracy, even slightly, and understand why the different models would provide a better score."
   ]
  },
  {
   "cell_type": "markdown",
   "id": "4e4c0b74",
   "metadata": {},
   "source": [
    "---"
   ]
  },
  {
   "cell_type": "markdown",
   "id": "f31a83c9",
   "metadata": {},
   "source": [
    "<a id='section3'></a>\n",
    "#### Ridge Regression (L2 Regularization)"
   ]
  },
  {
   "cell_type": "code",
   "execution_count": 12,
   "id": "9ad881e2",
   "metadata": {},
   "outputs": [
    {
     "name": "stdout",
     "output_type": "stream",
     "text": [
      "Ridge Train Score: 0.041788349737424846\n",
      "Ridge Validation Score: 0.02779756384547938\n"
     ]
    }
   ],
   "source": [
    "# Instantiate & fit Ridge regressor\n",
    "ridge = Ridge()\n",
    "ridge.fit(X_train, y_train)\n",
    "\n",
    "# Save validation score\n",
    "ridge_val_score = ridge.score(X_val, y_val)\n",
    "\n",
    "# Print R2 score\n",
    "print(f'Ridge Train Score: {ridge.score(X_train, y_train)}')\n",
    "print(f'Ridge Validation Score: {ridge_val_score}')"
   ]
  },
  {
   "cell_type": "code",
   "execution_count": 13,
   "id": "cc00da47",
   "metadata": {},
   "outputs": [
    {
     "name": "stdout",
     "output_type": "stream",
     "text": [
      "0.00000207723148748507\n"
     ]
    }
   ],
   "source": [
    "# Check improvement over baseline\n",
    "print(format(ridge_val_score - scaled_lr_val_score, '.20f'))"
   ]
  },
  {
   "cell_type": "markdown",
   "id": "9266379c",
   "metadata": {},
   "source": [
    "Again, a very small improvement to the score. Lets use GridSearchCV to find the best alpha for the ridge regression model (default is 1.0)."
   ]
  },
  {
   "cell_type": "code",
   "execution_count": 14,
   "id": "f40ab764",
   "metadata": {
    "scrolled": true
   },
   "outputs": [
    {
     "name": "stdout",
     "output_type": "stream",
     "text": [
      "Best alpha: 100\n",
      "Train R2: 0.04177736065925697\n",
      "Validation R2: 0.027987695956912417\n"
     ]
    }
   ],
   "source": [
    "# Define parameters of alpha\n",
    "ridge_parameters = {'alpha': [0.0001, 0.001, 0.01, 0.1, 1.0, 10, 100, 1000]}\n",
    "\n",
    "# Grid search for best parameters\n",
    "grid_search_ridge = GridSearchCV(Ridge(), ridge_parameters, cv=5, return_train_score=True)\n",
    "\n",
    "# Fit\n",
    "grid_search_ridge.fit(X_train, y_train)\n",
    "\n",
    "# Extract results for plotting\n",
    "ridge_train_scores = grid_search_ridge.cv_results_['mean_train_score']\n",
    "ridge_val_scores = grid_search_ridge.cv_results_['mean_test_score']\n",
    " \n",
    "# Define best estimator\n",
    "best_ridge = grid_search_ridge.best_estimator_\n",
    "gs_ridge_val_score = best_ridge.score(X_val, y_val)\n",
    "\n",
    "# Print best params and score\n",
    "print(f\"Best alpha: {grid_search_ridge.best_params_['alpha']}\")\n",
    "print(f'Train R2: {best_ridge.score(X_train, y_train)}')\n",
    "print(f'Validation R2: {gs_ridge_val_score}')"
   ]
  },
  {
   "cell_type": "code",
   "execution_count": 15,
   "id": "adf2cf33",
   "metadata": {},
   "outputs": [
    {
     "name": "stdout",
     "output_type": "stream",
     "text": [
      "0.00019013211143303899\n"
     ]
    }
   ],
   "source": [
    "# Check improvement over baseline\n",
    "print(format(gs_ridge_val_score - ridge_val_score, '.20f'))"
   ]
  },
  {
   "cell_type": "markdown",
   "id": "ab89d683",
   "metadata": {},
   "source": [
    "Again, we see a very slight imrpovement when using Ridge regression. 0.0019 increase in validation accuracy. Nothing to write home about. Lets continue exploring models."
   ]
  },
  {
   "cell_type": "markdown",
   "id": "e25c88d5",
   "metadata": {},
   "source": [
    "---"
   ]
  },
  {
   "cell_type": "markdown",
   "id": "aadf788d",
   "metadata": {},
   "source": [
    "<a id='section4'></a>\n",
    "#### Lasso Regression (L1 Regularization)"
   ]
  },
  {
   "cell_type": "code",
   "execution_count": 16,
   "id": "68b592ac",
   "metadata": {},
   "outputs": [
    {
     "name": "stdout",
     "output_type": "stream",
     "text": [
      "Lasso Train Score: 0.04178835091331168\n",
      "Lasso Validation Score: 0.02779548843600399\n"
     ]
    }
   ],
   "source": [
    "# Instantiate & fit Ridge regressor\n",
    "lasso = Lasso()\n",
    "lasso.fit(X_train, y_train)\n",
    "\n",
    "# Save validation score\n",
    "lasso_val_score = lasso.score(X_val, y_val)\n",
    "\n",
    "# Print R2 score\n",
    "print(f'Lasso Train Score: {lasso.score(X_train, y_train)}')\n",
    "print(f'Lasso Validation Score: {lasso_val_score}')"
   ]
  },
  {
   "cell_type": "code",
   "execution_count": 17,
   "id": "dfed0282",
   "metadata": {},
   "outputs": [
    {
     "name": "stdout",
     "output_type": "stream",
     "text": [
      "-0.00000207540947538831\n"
     ]
    }
   ],
   "source": [
    "# Compare to default ridge model\n",
    "print(format(lasso_val_score - ridge_val_score, '.20f'))"
   ]
  },
  {
   "cell_type": "markdown",
   "id": "fa4e6d89",
   "metadata": {},
   "source": [
    "So default Lasso model performs slightly worse on the validation set than the ridge model."
   ]
  },
  {
   "cell_type": "code",
   "execution_count": 18,
   "id": "3b400f71",
   "metadata": {
    "scrolled": true
   },
   "outputs": [
    {
     "name": "stdout",
     "output_type": "stream",
     "text": [
      "Best alpha: 1000\n",
      "Train R2: 0.0417883501647901\n",
      "Validation R2: 0.027797307937793447\n"
     ]
    }
   ],
   "source": [
    "# Define parameters\n",
    "lasso_parameters = {'alpha': [0.0001, 0.001, 0.01, 0.1, 1.0, 10, 100, 1000]}\n",
    "\n",
    "# Grid search for best parameters\n",
    "grid_search_lasso = GridSearchCV(Lasso(), lasso_parameters, cv=5, return_train_score=True)\n",
    "\n",
    "# Fit\n",
    "grid_search_lasso.fit(X_train, y_train)\n",
    "\n",
    "# Extract results for plotting\n",
    "lasso_train_scores = grid_search_lasso.cv_results_['mean_train_score']\n",
    "lasso_val_scores = grid_search_lasso.cv_results_['mean_test_score']\n",
    "\n",
    "# Define best estimator\n",
    "best_lasso = grid_search_lasso.best_estimator_\n",
    "gs_lasso_val_score = best_lasso.score(X_val, y_val)\n",
    "\n",
    "# Print best params and score\n",
    "print(f\"Best alpha: {grid_search_lasso.best_params_['alpha']}\")\n",
    "print(f'Train R2: {best_lasso.score(X_train, y_train)}')\n",
    "print(f'Validation R2: {gs_lasso_val_score}')"
   ]
  },
  {
   "cell_type": "code",
   "execution_count": 19,
   "id": "2cbfa526",
   "metadata": {},
   "outputs": [
    {
     "name": "stdout",
     "output_type": "stream",
     "text": [
      "0.00000181950178945733\n"
     ]
    }
   ],
   "source": [
    "# Check improvement over baseline\n",
    "print(format(gs_lasso_val_score - lasso_val_score, '.20f'))"
   ]
  },
  {
   "cell_type": "code",
   "execution_count": 20,
   "id": "e798539b",
   "metadata": {},
   "outputs": [
    {
     "name": "stdout",
     "output_type": "stream",
     "text": [
      "-0.00019038801911896996\n"
     ]
    }
   ],
   "source": [
    "# Compare lasso to ridge\n",
    "print(format(gs_lasso_val_score - gs_ridge_val_score, '.20f'))"
   ]
  },
  {
   "cell_type": "markdown",
   "id": "9c8d9790",
   "metadata": {},
   "source": [
    "That's no better than Ridge regression. I think it would be helpful to plot out the train and test scores for the two models to understand the impact the parameters are having on performance."
   ]
  },
  {
   "cell_type": "code",
   "execution_count": 21,
   "id": "d850e63c",
   "metadata": {},
   "outputs": [
    {
     "data": {
      "image/png": "[encoded data removed]",
      "text/plain": [
       "<Figure size 1200x600 with 2 Axes>"
      ]
     },
     "metadata": {},
     "output_type": "display_data"
    }
   ],
   "source": [
    "# Instantiate plot\n",
    "plt.figure(figsize=(12,6))\n",
    "\n",
    "# Ridge scores\n",
    "plt.subplot(1, 2, 1)\n",
    "plt.plot(ridge_parameters['alpha'], ridge_train_scores, label='Train Score', color='b')\n",
    "plt.plot(ridge_parameters['alpha'], ridge_val_scores, label='Validation Score', color='r')\n",
    "plt.title('Ridge Regression Scores')\n",
    "plt.ylabel('R^2 Score')\n",
    "plt.xlabel('Alpha')\n",
    "plt.xscale('log')\n",
    "plt.legend()\n",
    "\n",
    "# Ridge scores\n",
    "plt.subplot(1, 2, 2)\n",
    "plt.plot(ridge_parameters['alpha'], lasso_train_scores, label='Train Score', color='b')\n",
    "plt.plot(ridge_parameters['alpha'], lasso_val_scores, label='Validation Score', color='r')\n",
    "plt.title('Lasso Regression Scores')\n",
    "plt.ylabel('R^2 Score')\n",
    "plt.xlabel('Alpha')\n",
    "plt.xscale('log')\n",
    "plt.legend()\n",
    "\n",
    "plt.tight_layout()\n",
    "plt.show()"
   ]
  },
  {
   "cell_type": "markdown",
   "id": "33e9db86",
   "metadata": {},
   "source": [
    "From the above plots, I can see that the Ridge Regression scores stay more or less the same until alpha = 100, which returns a slightly improved validation score and the training score drops off.  \n",
    "It looks as though there is very little impact to the scores with different parameters in the Lasso Regression model. Lasso regression is typically used to avoid instances of overfitting. I think given the incredibly poor score of the model, it is fair to say that the model is definitely not overfitting."
   ]
  },
  {
   "cell_type": "markdown",
   "id": "5edda8cb",
   "metadata": {},
   "source": [
    "At this point, I think it's fair to say that the standard linear model with different methods of regularization are not overly effective in predicting the number of YouTube views a song may get based on the predictor variables we have. Now I want to try some tree based models. "
   ]
  },
  {
   "cell_type": "markdown",
   "id": "96e5e3bf",
   "metadata": {},
   "source": [
    "---"
   ]
  },
  {
   "cell_type": "markdown",
   "id": "1717f7dc",
   "metadata": {},
   "source": [
    "<a id='section5'></a>\n",
    "#### Decision Tree"
   ]
  },
  {
   "cell_type": "code",
   "execution_count": 21,
   "id": "99cc79df",
   "metadata": {
    "scrolled": true
   },
   "outputs": [
    {
     "name": "stdout",
     "output_type": "stream",
     "text": [
      "Decision Tree Train Score:0.9996461815119477\n",
      "Decision Tree Validation Score:-1.2149857341916825\n"
     ]
    }
   ],
   "source": [
    "# Establish baseline model\n",
    "tree = DecisionTreeRegressor()\n",
    "tree.fit(X_train, y_train)\n",
    "\n",
    "# Save validation score\n",
    "tree_val_score = tree.score(X_val, y_val)\n",
    "\n",
    "# Print R2 scores\n",
    "print(f'Decision Tree Train Score:{tree.score(X_train, y_train)}')\n",
    "print(f'Decision Tree Validation Score:{tree_val_score}')"
   ]
  },
  {
   "cell_type": "markdown",
   "id": "1634d6a2",
   "metadata": {},
   "source": [
    "Wow, the default decision tree model performs incredibly poorly, overfitting the training data and making a really poor prediction on the validation set. Lets see if we can't improve this models performance by tuning the following parameters:\n",
    "- max_depth (default: None)\n",
    "- min_samples_split (default: 2)\n",
    "- min_samples_leaf (default: 1)\n",
    "- max_features (default: None)  \n",
    "\n",
    "First, I want to examine how different depths affect the train and validation scores."
   ]
  },
  {
   "cell_type": "code",
   "execution_count": 22,
   "id": "bb9ce783",
   "metadata": {},
   "outputs": [],
   "source": [
    "# Assign a depth range\n",
    "max_depths = range(1, 51, 2) \n",
    "\n",
    "# Instantiate accuracy lists\n",
    "train_acc = []\n",
    "validation_acc = []\n",
    "\n",
    "# Loop through depths to get accuracy scores\n",
    "for depth in max_depths:\n",
    "    # Instantiate model & fit\n",
    "    tree = DecisionTreeRegressor(max_depth=depth)\n",
    "    tree.fit(X_train, y_train)\n",
    "    \n",
    "    # Score the model\n",
    "    train_accuracy = tree.score(X_train, y_train)\n",
    "    validation_accuracy = tree.score(X_val, y_val)\n",
    "    \n",
    "    # Append scores to lists\n",
    "    train_acc.append(train_accuracy)\n",
    "    validation_acc.append(validation_accuracy)"
   ]
  },
  {
   "cell_type": "code",
   "execution_count": 23,
   "id": "864329bb",
   "metadata": {},
   "outputs": [
    {
     "data": {
      "image/png": "[encoded data removed]",
      "text/plain": [
       "<Figure size 1000x600 with 1 Axes>"
      ]
     },
     "metadata": {},
     "output_type": "display_data"
    }
   ],
   "source": [
    "# Instantiate plot\n",
    "plt.figure(figsize=(10,6))\n",
    "\n",
    "# Plot values\n",
    "plt.plot(max_depths, train_acc, color='blue', label='Train')\n",
    "plt.plot(max_depths, validation_acc, color='red', label='Validation')\n",
    "\n",
    "# Label the plot\n",
    "plt.title('Decision Tree: Accuracy by Max Depth')\n",
    "plt.xlabel('Max Depth')\n",
    "plt.ylabel('Accuracy Score')\n",
    "plt.legend()\n",
    "\n",
    "plt.show()"
   ]
  },
  {
   "cell_type": "markdown",
   "id": "e95ff5b8",
   "metadata": {},
   "source": [
    "I can see from the above plot that the train and validation scores diverge pretty quickly from eachother. It also looks as though the train score approaches 100% around an max depth of 20. What I'll do next is use grid search to find the best parameters for the Decision Tree Regresso, but limit the max_depth to 20."
   ]
  },
  {
   "cell_type": "code",
   "execution_count": 24,
   "id": "a803d730",
   "metadata": {},
   "outputs": [],
   "source": [
    "# Define parameters\n",
    "parameters = {\n",
    "    'max_depth': range(1, 21, 2),\n",
    "    'min_samples_split': range(1, 101, 10),\n",
    "    'min_samples_leaf': range(1, 101, 10),\n",
    "    'max_features': [None, 'sqrt', 'log2']\n",
    "}\n",
    "\n",
    "# Grid search for best parameters\n",
    "grid_search_tree = GridSearchCV(tree, parameters, cv=5, scoring='r2', return_train_score=True)\n",
    "\n",
    "# Fit\n",
    "grid_search_tree.fit(X_train, y_train)\n",
    "\n",
    "# Define best estimator\n",
    "best_tree = grid_search_tree.best_estimator_\n",
    "gs_tree_val_score = best_tree.score(X_val, y_val)"
   ]
  },
  {
   "cell_type": "code",
   "execution_count": 25,
   "id": "925d5235",
   "metadata": {},
   "outputs": [
    {
     "name": "stdout",
     "output_type": "stream",
     "text": [
      "Best tree parameters: {'max_depth': 7, 'max_features': None, 'min_samples_leaf': 81, 'min_samples_split': 11}\n",
      "Train R2: 0.13718563508350679\n",
      "Validation R2: 0.05441125532764224\n"
     ]
    }
   ],
   "source": [
    "# Print best params and score\n",
    "print(f\"Best tree parameters: {grid_search_tree.best_params_}\")\n",
    "print(f'Train R2: {best_tree.score(X_train, y_train)}') \n",
    "print(f'Validation R2: {gs_tree_val_score}')"
   ]
  },
  {
   "cell_type": "markdown",
   "id": "511b91ee",
   "metadata": {},
   "source": [
    "That score is much better than the default decision tree model!"
   ]
  },
  {
   "cell_type": "code",
   "execution_count": 26,
   "id": "d1e8d5e4",
   "metadata": {},
   "outputs": [
    {
     "name": "stdout",
     "output_type": "stream",
     "text": [
      "0.02642355937072982108\n"
     ]
    }
   ],
   "source": [
    "print(format(gs_tree_val_score - gs_ridge_val_score, '.20f'))"
   ]
  },
  {
   "cell_type": "markdown",
   "id": "19f60258",
   "metadata": {},
   "source": [
    "Not only that, but it's nearly twice as accurate than the ridge regression model! An improvement of 0.0264 in the validation accuracy score!"
   ]
  },
  {
   "cell_type": "markdown",
   "id": "90ba211d",
   "metadata": {},
   "source": [
    "---"
   ]
  },
  {
   "cell_type": "markdown",
   "id": "ef10c355",
   "metadata": {},
   "source": [
    "<a id='section6'></a>\n",
    "#### Random Forest"
   ]
  },
  {
   "cell_type": "code",
   "execution_count": 27,
   "id": "2ae44f2e",
   "metadata": {},
   "outputs": [
    {
     "name": "stdout",
     "output_type": "stream",
     "text": [
      "Random Forest Train Score:0.8829262914880269\n",
      "Random Forest Validation Score:0.142709729479358\n"
     ]
    }
   ],
   "source": [
    "# Establish baseline model\n",
    "rf = RandomForestRegressor()\n",
    "rf.fit(X_train, y_train)\n",
    "\n",
    "# Save validation score\n",
    "rf_val_score = rf.score(X_val, y_val)\n",
    "\n",
    "# Print R2 scores\n",
    "print(f'Random Forest Train Score:{rf.score(X_train, y_train)}')\n",
    "print(f'Random Forest Validation Score:{rf_val_score}')"
   ]
  },
  {
   "cell_type": "markdown",
   "id": "888e12e1",
   "metadata": {},
   "source": [
    "This baseline model is producing the best result I've found so far with a validation score of ~14%. Before moving onto hyper parameter optimization, I want to again test the scores by max_depth so as to not waste time computing models at a depth that won't provide improvement in model accuracy."
   ]
  },
  {
   "cell_type": "code",
   "execution_count": 28,
   "id": "8594e3c7",
   "metadata": {},
   "outputs": [],
   "source": [
    "# Assign a depth range\n",
    "max_depths = range(1, 51, 2) \n",
    "\n",
    "# Re-instantiate accuracy lists\n",
    "train_acc = []\n",
    "validation_acc = []\n",
    "\n",
    "# Loop through depths to get accuracy scores\n",
    "for depth in max_depths:\n",
    "    # Instantiate model & fit\n",
    "    rf = RandomForestRegressor(max_depth=depth)\n",
    "    rf.fit(X_train, y_train)\n",
    "    \n",
    "    # Score the model\n",
    "    train_accuracy = rf.score(X_train, y_train)\n",
    "    validation_accuracy = rf.score(X_val, y_val)\n",
    "    \n",
    "    # Append scores to lists\n",
    "    train_acc.append(train_accuracy)\n",
    "    validation_acc.append(validation_accuracy)"
   ]
  },
  {
   "cell_type": "code",
   "execution_count": 29,
   "id": "d505d207",
   "metadata": {},
   "outputs": [
    {
     "data": {
      "image/png": "[encoded data removed]",
      "text/plain": [
       "<Figure size 1000x600 with 1 Axes>"
      ]
     },
     "metadata": {},
     "output_type": "display_data"
    }
   ],
   "source": [
    "# Instantiate plot\n",
    "plt.figure(figsize=(10,6))\n",
    "\n",
    "# Plot values\n",
    "plt.plot(max_depths, train_acc, color='blue', label='Train')\n",
    "plt.plot(max_depths, validation_acc, color='red', label='Validation')\n",
    "\n",
    "# Label the plot\n",
    "plt.title('Random Forest: Accuracy by Max Depth')\n",
    "plt.xlabel('Max Depth')\n",
    "plt.ylabel('Accuracy Score')\n",
    "plt.legend()\n",
    "\n",
    "plt.show()"
   ]
  },
  {
   "cell_type": "markdown",
   "id": "faedfa3c",
   "metadata": {},
   "source": [
    "Similar to the decision tree model, the train score stops improving around a max depth of 20. When performing a grid search, I need to generalize some of the parameters so as to save on computation time. Some of the models are very computationally expensive. While I would like to evaluate every value in a range to get the best out of model performance, I notice that I'm having to make some concessions to how many parameters I am testing."
   ]
  },
  {
   "cell_type": "code",
   "execution_count": 30,
   "id": "51b4b76c",
   "metadata": {},
   "outputs": [],
   "source": [
    "# Define model parameters \n",
    "parameters = {\n",
    "    'n_estimators': [50, 100, 150],\n",
    "    'max_depth': range(2, 21, 2),\n",
    "    'min_samples_split': [2, 10, 20, 50, 100],\n",
    "    'min_samples_leaf': [1, 10, 20, 50, 100],\n",
    "    'max_features': ['auto', 'sqrt', 'log2']\n",
    "}\n",
    "\n",
    "# Grid search for best parameters\n",
    "grid_search_rf = GridSearchCV(rf, parameters, cv=5, scoring='r2', return_train_score=True)\n",
    "\n",
    "# Fit\n",
    "grid_search_rf.fit(X_train, y_train)\n",
    "\n",
    "# Define best estimator\n",
    "best_rf = grid_search_rf.best_estimator_\n",
    "gs_rf_val_score = best_rf.score(X_val, y_val)"
   ]
  },
  {
   "cell_type": "code",
   "execution_count": 31,
   "id": "81dc7f7d",
   "metadata": {},
   "outputs": [
    {
     "name": "stdout",
     "output_type": "stream",
     "text": [
      "Best random forest parameters: {'max_depth': 20, 'max_features': 'sqrt', 'min_samples_leaf': 1, 'min_samples_split': 2, 'n_estimators': 150}\n",
      "Train R2: 0.8619581963753242\n",
      "Validation R2: 0.19696749039543826\n"
     ]
    }
   ],
   "source": [
    "# Print best params and score\n",
    "print(f\"Best random forest parameters: {grid_search_rf.best_params_}\")\n",
    "print(f'Train R2: {best_rf.score(X_train, y_train)}')\n",
    "print(f'Validation R2: {gs_rf_val_score}')"
   ]
  },
  {
   "cell_type": "markdown",
   "id": "5b49f838",
   "metadata": {},
   "source": [
    "19.6% is the best validation accuracty score yet. The model also performs better with a higher number of estimators (150) than the default value (100)."
   ]
  },
  {
   "cell_type": "markdown",
   "id": "f3f42168",
   "metadata": {},
   "source": [
    "---"
   ]
  },
  {
   "cell_type": "markdown",
   "id": "2ac96d3d",
   "metadata": {},
   "source": [
    "<a id='section7'></a>\n",
    "#### Gradient Boosted Tree (Extreme Gradient Boosting Regressor)"
   ]
  },
  {
   "cell_type": "code",
   "execution_count": 32,
   "id": "c95113d4",
   "metadata": {},
   "outputs": [
    {
     "name": "stdout",
     "output_type": "stream",
     "text": [
      "Random Forest Train Score:0.8545772317962368\n",
      "Random Forest Validation Score:0.0988187610367196\n"
     ]
    }
   ],
   "source": [
    "# Establish baseline model\n",
    "xgb = XGBRegressor()\n",
    "xgb.fit(X_train, y_train)\n",
    "\n",
    "# Save validation score\n",
    "xgb_val_score = xgb.score(X_val, y_val)\n",
    "\n",
    "# Print R2 scores\n",
    "print(f'Random Forest Train Score:{xgb.score(X_train, y_train)}')\n",
    "print(f'Random Forest Validation Score:{xgb_val_score}')"
   ]
  },
  {
   "cell_type": "markdown",
   "id": "b49f6a82",
   "metadata": {},
   "source": [
    "A 9.8% validation score is much better than some of the other models. Not quite as strong as the baseline random forest model. [This page](https://www.kaggle.com/code/prashant111/a-guide-on-xgboost-hyperparameters-tuning) on Kaggle was particularly helpful in helping my comprehension with the hyperparameters in XGBoost."
   ]
  },
  {
   "cell_type": "code",
   "execution_count": 33,
   "id": "59d95837",
   "metadata": {},
   "outputs": [],
   "source": [
    "# Define parameters for XGB Regressor\n",
    "parameters = {\n",
    "    'learning_rate': [0.5, 0.1],\n",
    "    'n_estimators': [50, 100, 150],\n",
    "    'max_depth': range(5, 21, 5),\n",
    "    'min_child_weight': [1, 5, 10],\n",
    "    'subsample': [0.5, 0.75, 1],\n",
    "    'colsample_bytree': [0.5, 0.75, 1],\n",
    "    'reg_lambda': [0.01, 0.1, 1, 10],\n",
    "    'reg_alpha': [0.01, 0.1, 1, 10]\n",
    "}\n",
    "\n",
    "# Grid search for best parameters\n",
    "grid_search_xgb = GridSearchCV(xgb, parameters, cv=5, scoring='r2', return_train_score=True)\n",
    "\n",
    "# Fit\n",
    "grid_search_xgb.fit(X_train, y_train)\n",
    "\n",
    "# Define best estimator\n",
    "best_xgb = grid_search_xgb.best_estimator_\n",
    "gs_xgb_val_score = best_xgb.score(X_val, y_val)"
   ]
  },
  {
   "cell_type": "code",
   "execution_count": 34,
   "id": "67f9940e",
   "metadata": {},
   "outputs": [
    {
     "name": "stdout",
     "output_type": "stream",
     "text": [
      "Best XGBoost parameters: {'colsample_bytree': 0.5, 'learning_rate': 0.1, 'max_depth': 10, 'min_child_weight': 1, 'n_estimators': 100, 'reg_alpha': 10, 'reg_lambda': 10, 'subsample': 1}\n",
      "Train R2: 0.853110326928715\n",
      "Validation R2: 0.17385379640535914\n"
     ]
    }
   ],
   "source": [
    "# Print best params and score\n",
    "print(f\"Best XGBoost parameters: {grid_search_xgb.best_params_}\")\n",
    "print(f'Train R2: {best_xgb.score(X_train, y_train)}')\n",
    "print(f'Validation R2: {gs_xgb_val_score}')"
   ]
  },
  {
   "cell_type": "markdown",
   "id": "642f1061",
   "metadata": {},
   "source": [
    "This grid search took a very long time to run. I would like to fine tune more parameters, but the computation time is very intensive and would take too long to fully explore, with no guaruntee that it would improve model performance. Lets evaluate all of the models next to eachother now."
   ]
  },
  {
   "cell_type": "markdown",
   "id": "35fd7bcb",
   "metadata": {},
   "source": [
    "---"
   ]
  },
  {
   "cell_type": "markdown",
   "id": "ade75396",
   "metadata": {},
   "source": [
    "<a id='section8'></a>\n",
    "#### Model Evaluation"
   ]
  },
  {
   "cell_type": "code",
   "execution_count": 40,
   "id": "dbacb396",
   "metadata": {},
   "outputs": [
    {
     "name": "stdout",
     "output_type": "stream",
     "text": [
      "Linear Regression Accuracy:0.027795486613992115\n",
      "Ridge Regression Accuracy:0.027987695956912417\n",
      "Lasso Regression Accuracy:0.027797307937793447\n",
      "Decision Tree Accuracy:0.05441125532764224\n",
      "Random Forest Accuracy:0.19696749039543826\n",
      "EXB Regressor Accuracy:0.17385379640535914\n"
     ]
    }
   ],
   "source": [
    "# Print accuracies\n",
    "print(f'Linear Regression Accuracy:{lr_val_score}')\n",
    "print(f'Ridge Regression Accuracy:{gs_ridge_val_score}')\n",
    "print(f'Lasso Regression Accuracy:{gs_lasso_val_score}')\n",
    "print(f'Decision Tree Accuracy:{gs_tree_val_score}')\n",
    "print(f'Random Forest Accuracy:{gs_rf_val_score}')\n",
    "print(f'EXB Regressor Accuracy:{gs_xgb_val_score}')"
   ]
  },
  {
   "cell_type": "markdown",
   "id": "aee4918c",
   "metadata": {},
   "source": [
    "The Random Forest model performs the best, capturing ~19% of the variance in the R2 score of the model. "
   ]
  },
  {
   "cell_type": "code",
   "execution_count": 45,
   "id": "88d9ebb7",
   "metadata": {},
   "outputs": [
    {
     "data": {
      "text/plain": [
       "{'Linear Regression': 0.027795486613992115,\n",
       " 'Ridge Regression': 0.027987695956912417,\n",
       " 'Lasso Regression': 0.027797307937793447,\n",
       " 'Decision Tree': 0.05441125532764224,\n",
       " 'Random Forest': 0.19696749039543826,\n",
       " 'XGB Regressor': 0.17385379640535914}"
      ]
     },
     "execution_count": 45,
     "metadata": {},
     "output_type": "execute_result"
    }
   ],
   "source": [
    "# Instantiate a model score dictionary\n",
    "score_dict = {\n",
    "    'Linear Regression': lr_val_score,\n",
    "    'Ridge Regression': gs_ridge_val_score,\n",
    "    'Lasso Regression': gs_lasso_val_score,\n",
    "    'Decision Tree': gs_tree_val_score,\n",
    "    'Random Forest': gs_rf_val_score,\n",
    "    'XGB Regressor': gs_xgb_val_score\n",
    "}\n",
    "\n",
    "# Verify\n",
    "score_dict"
   ]
  },
  {
   "cell_type": "code",
   "execution_count": 39,
   "id": "bc79835e",
   "metadata": {},
   "outputs": [
    {
     "name": "stdout",
     "output_type": "stream",
     "text": [
      "Linear Regression: MAE = 117628962.90\n",
      "Ridge Regression: MAE = 117542834.24\n",
      "Lasso Regression: MAE = 117628465.74\n",
      "Decision Tree: MAE = 110694316.69\n",
      "Random Forest: MAE = 103416178.00\n",
      "XGB Regressor: MAE = 100892738.31\n"
     ]
    }
   ],
   "source": [
    "# Compute mean absolute error of each model\n",
    "models = {\n",
    "    'Linear Regression': LinearRegression(),\n",
    "    'Ridge Regression': Ridge(alpha=100),\n",
    "    'Lasso Regression': Lasso(alpha=1000),\n",
    "    'Decision Tree': DecisionTreeRegressor(max_depth=7, min_samples_leaf=81, min_samples_split=11),\n",
    "    'Random Forest': RandomForestRegressor(max_depth=20, max_features='sqrt', n_estimators=150),\n",
    "    'XGB Regressor': XGBRegressor(colsample_bytree=0.5, learning_rate=0.1, max_depth=10, min_child_weight=1,\n",
    "                                  n_estimators=100, reg_alpha=10, reg_lambda=10, subsample=1)\n",
    "}\n",
    "\n",
    "mae_scores = []\n",
    "\n",
    "# Predict & compute MAE\n",
    "for name, model, in models.items():\n",
    "    model.fit(X_train, y_train)\n",
    "    predictions = model.predict(X_val)\n",
    "    mae = mean_absolute_error(y_val, predictions)\n",
    "    print(f'{name}: MAE = {mae:.2f}')"
   ]
  },
  {
   "cell_type": "markdown",
   "id": "fa786178",
   "metadata": {},
   "source": [
    "Given the substantial number of views being predicted, the MAE scoers are understandably quite high. In terms of R^2 score, the Random Forest model outperforms the XGB Regressor, but in the context of mean absolute error, the XGB regressor is superior to the Random Forest model."
   ]
  },
  {
   "cell_type": "code",
   "execution_count": 57,
   "id": "f053eeb2",
   "metadata": {},
   "outputs": [
    {
     "data": {
      "image/png": "[encoded data removed]",
      "text/plain": [
       "<Figure size 1000x600 with 1 Axes>"
      ]
     },
     "metadata": {},
     "output_type": "display_data"
    }
   ],
   "source": [
    "# Plot the scores of the different models\n",
    "models = list(score_dict.keys())\n",
    "scores = list(score_dict.values())\n",
    "\n",
    "plt.figure(figsize=(10,6))\n",
    "plt.barh(models, scores, color='mediumseagreen')\n",
    "plt.title('Validation R^2 Scores by Regression Model')\n",
    "plt.ylabel('Model')\n",
    "plt.xlabel('R^2 Score')\n",
    "plt.xlim(0, 1)\n",
    "plt.grid(alpha=0.2)\n",
    "plt.gca().invert_yaxis()\n",
    "plt.show()"
   ]
  },
  {
   "cell_type": "markdown",
   "id": "5165917a",
   "metadata": {},
   "source": [
    "Above, we can see that the Random Forest model performed the best out of all the models with the following parameters:\n",
    "- max_depth: 20\n",
    "- max_features: sqrt\n",
    "- min_samples_leaf: 1\n",
    "- min_samples_split: 2\n",
    "- n_estimators: 150"
   ]
  },
  {
   "cell_type": "code",
   "execution_count": 57,
   "id": "7af54b53",
   "metadata": {
    "scrolled": false
   },
   "outputs": [
    {
     "data": {
      "image/png": "[encoded data removed]",
      "text/plain": [
       "<Figure size 1000x600 with 1 Axes>"
      ]
     },
     "metadata": {},
     "output_type": "display_data"
    }
   ],
   "source": [
    "# Examine feature_importances in model\n",
    "rf_optimal = RandomForestRegressor(max_depth=20, max_features='sqrt', min_samples_leaf=1, min_samples_split=2, n_estimators=150)\n",
    "rf_optimal.fit(X_train, y_train)\n",
    "\n",
    "# Extract importances\n",
    "importances = rf.feature_importances_\n",
    "\n",
    "importance_df = pd.DataFrame({'Feature': X.columns,\n",
    "                              'Importance': importances\n",
    "                             })\n",
    "\n",
    "# Sort\n",
    "importance_df = importance_df.sort_values(by='Importance')\n",
    "\n",
    "# Plot feature importances\n",
    "plt.figure(figsize=(10, 6))\n",
    "plt.barh(importance_df['Feature'], importance_df['Importance'], color='mediumseagreen')\n",
    "plt.title('Importance of Features in Random Forest Regressor')\n",
    "plt.xlabel('Importance')\n",
    "plt.ylabel('Feature')\n",
    "\n",
    "plt.show()"
   ]
  },
  {
   "cell_type": "markdown",
   "id": "7add2606",
   "metadata": {},
   "source": [
    "In the above barplot, we can see that features like \"Loudness\" and \"Number of Months Published\", are most important in making predictions with Random Forest Regressor, wherase features like the key, or the album type, which were one-hot encoded in the feature engineering stage are not as imporant. Of the album types, it looks like \"singles\" tend to be most predictive of that type, however.  \n",
    "\n",
    "These features, by importance, serve as a good reference point for where an artist or producer could start their evaluation process of a song prior to releasing it."
   ]
  },
  {
   "cell_type": "code",
   "execution_count": 63,
   "id": "69a1fadc",
   "metadata": {},
   "outputs": [
    {
     "name": "stdout",
     "output_type": "stream",
     "text": [
      "Random Forest Train Score:0.8686079951639515\n",
      "Random Forest Test Accuracy:0.18195186375110828\n"
     ]
    }
   ],
   "source": [
    "# Instantiate random forest model with optimal hyperparameters\n",
    "rf_optimal = RandomForestRegressor(max_depth=20, max_features='sqrt', min_samples_leaf=1, min_samples_split=2, n_estimators=150)\n",
    "rf_optimal.fit(X_train, y_train)\n",
    "\n",
    "# Print R2 scores\n",
    "print(f'Random Forest Train Score:{rf_optimal.score(X_train, y_train)}')\n",
    "print(f'Random Forest Test Accuracy:{rf_optimal.score(X_test, y_test)}')"
   ]
  },
  {
   "cell_type": "markdown",
   "id": "9e8f0b91",
   "metadata": {},
   "source": [
    "---"
   ]
  },
  {
   "cell_type": "markdown",
   "id": "f5a810c2",
   "metadata": {},
   "source": [
    "<a id='section9'></a>\n",
    "#### Conclusion\n",
    "The R^2 score of 18.2% (Random Forest) indicates that the model explains 18.2% of the variance in the test data. This is a significant improvement from the 2.7% offered by the linear regression model. The modest scores suggest the limitations of only using musical features to predict a song's popularity. While these features are undoubtedly significant, the popularity of a song is not only determined by such features. Factors such as genre, which isn't available in the current dataset, might contribute meaningfully.\n",
    "\n",
    "In the context of mean absolute error, the XGB Regressor makes the best predictions. The large MAE score is also very likely held back by the limitations in the data. With access to more data, the performance of both models could be further improved and re-evaluated. \n",
    "\n",
    "Moreover, external elements like the artist's reputation and their existing fanbase can substantially influence the number of views a song gets. That said, this project's intent was to isolate and assess the influence of musical features, independent of the artist behind the song. As such, I see a model explaining almost 20% of the variance to be a success, and I'm confident that, given more time to collect additional data, like genre, and test more models would yield a much higher R^2 score."
   ]
  },
  {
   "cell_type": "markdown",
   "id": "01901973",
   "metadata": {},
   "source": [
    "---"
   ]
  }
 ],
 "metadata": {
  "kernelspec": {
   "display_name": "Python 3 (ipykernel)",
   "language": "python",
   "name": "python3"
  },
  "language_info": {
   "codemirror_mode": {
    "name": "ipython",
    "version": 3
   },
   "file_extension": ".py",
   "mimetype": "text/x-python",
   "name": "python",
   "nbconvert_exporter": "python",
   "pygments_lexer": "ipython3",
   "version": "3.9.13"
  }
 },
 "nbformat": 4,
 "nbformat_minor": 5
}
